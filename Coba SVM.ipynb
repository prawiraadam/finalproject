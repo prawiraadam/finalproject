{
 "cells": [
  {
   "cell_type": "code",
   "execution_count": 2,
   "metadata": {},
   "outputs": [],
   "source": [
    "from sklearn import datasets, svm, metrics\n",
    "from sklearn.model_selection import train_test_split\n",
    "\n",
    "import pandas as pd"
   ]
  },
  {
   "cell_type": "code",
   "execution_count": 4,
   "metadata": {},
   "outputs": [],
   "source": [
    "wine = datasets.load_wine()"
   ]
  },
  {
   "cell_type": "code",
   "execution_count": 5,
   "metadata": {},
   "outputs": [
    {
     "name": "stdout",
     "output_type": "stream",
     "text": [
      "features:  ['alcohol', 'malic_acid', 'ash', 'alcalinity_of_ash', 'magnesium', 'total_phenols', 'flavanoids', 'nonflavanoid_phenols', 'proanthocyanins', 'color_intensity', 'hue', 'od280/od315_of_diluted_wines', 'proline']\n"
     ]
    }
   ],
   "source": [
    "print('features: ', wine.feature_names)"
   ]
  },
  {
   "cell_type": "code",
   "execution_count": 6,
   "metadata": {},
   "outputs": [
    {
     "name": "stdout",
     "output_type": "stream",
     "text": [
      "labels:  ['class_0' 'class_1' 'class_2']\n"
     ]
    }
   ],
   "source": [
    "print(\"labels: \", wine.target_names)"
   ]
  },
  {
   "cell_type": "code",
   "execution_count": 18,
   "metadata": {},
   "outputs": [],
   "source": [
    "X_train, X_test, y_train, y_test = train_test_split(wine.data, wine.target, test_size=0.2, random_state=200)"
   ]
  },
  {
   "cell_type": "code",
   "execution_count": 19,
   "metadata": {},
   "outputs": [],
   "source": [
    "clf = svm.SVC(kernel='linear')\n",
    "clf.fit(X_train, y_train)\n",
    "y_pred = clf.predict(X_test)"
   ]
  },
  {
   "cell_type": "code",
   "execution_count": 20,
   "metadata": {},
   "outputs": [
    {
     "name": "stdout",
     "output_type": "stream",
     "text": [
      "Accuracy:  0.9444444444444444\n",
      "Precision:  0.9467592592592591\n",
      "Recall:  0.9444444444444444\n"
     ]
    }
   ],
   "source": [
    "print(\"Accuracy: \", metrics.accuracy_score(y_test, y_pred))\n",
    "print(\"Precision: \", metrics.precision_score(y_test, y_pred, average='weighted'))\n",
    "print(\"Recall: \", metrics.recall_score(y_test, y_pred, average='weighted'))"
   ]
  },
  {
   "cell_type": "code",
   "execution_count": 21,
   "metadata": {},
   "outputs": [],
   "source": [
    "from sklearn.feature_extraction.text import TfidfVectorizer"
   ]
  },
  {
   "cell_type": "code",
   "execution_count": 35,
   "metadata": {},
   "outputs": [
    {
     "name": "stdout",
     "output_type": "stream",
     "text": [
      "  (0, 3)\t0.6445029922609534\n",
      "  (0, 11)\t0.41137791133379387\n",
      "  (0, 9)\t0.6445029922609534\n",
      "  (1, 2)\t0.4530050977381881\n",
      "  (1, 1)\t0.5745795256791941\n",
      "  (1, 12)\t0.5745795256791941\n",
      "  (1, 11)\t0.3667466683744504\n",
      "  (2, 7)\t0.3722248517590162\n",
      "  (2, 4)\t0.3722248517590162\n",
      "  (2, 13)\t0.47212002654617047\n",
      "  (2, 10)\t0.47212002654617047\n",
      "  (2, 8)\t0.3722248517590162\n",
      "  (2, 2)\t0.3722248517590162\n",
      "  (3, 5)\t0.3992918571717758\n",
      "  (3, 0)\t0.3992918571717758\n",
      "  (3, 14)\t0.3992918571717758\n",
      "  (3, 6)\t0.3992918571717758\n",
      "  (3, 7)\t0.31480628651072856\n",
      "  (3, 4)\t0.31480628651072856\n",
      "  (3, 8)\t0.31480628651072856\n",
      "  (3, 11)\t0.25486282017044437\n"
     ]
    }
   ],
   "source": [
    "corpus = [\n",
    "     'Nama saya Budi.',\n",
    "     'Saya suka bermain bola.',\n",
    "     'Main bola paling tepat di lapangan.',\n",
    "     'Jika tidak ada lapangan, saya main di jalan',\n",
    "]\n",
    "vectorizer = TfidfVectorizer()\n",
    "X = vectorizer.fit_transform(corpus)\n",
    "print(X)"
   ]
  },
  {
   "cell_type": "code",
   "execution_count": null,
   "metadata": {},
   "outputs": [],
   "source": []
  }
 ],
 "metadata": {
  "kernelspec": {
   "display_name": "Python 3",
   "language": "python",
   "name": "python3"
  },
  "language_info": {
   "codemirror_mode": {
    "name": "ipython",
    "version": 3
   },
   "file_extension": ".py",
   "mimetype": "text/x-python",
   "name": "python",
   "nbconvert_exporter": "python",
   "pygments_lexer": "ipython3",
   "version": "3.7.1"
  }
 },
 "nbformat": 4,
 "nbformat_minor": 4
}
