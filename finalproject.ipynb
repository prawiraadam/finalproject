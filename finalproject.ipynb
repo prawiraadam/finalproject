{
 "cells": [
  {
   "cell_type": "code",
   "execution_count": null,
   "metadata": {},
   "outputs": [],
   "source": [
    "# Rancangan\n",
    "# Dataframe displit tiap cycle, iterasi\n",
    "# Agent bikin prioritas testcase yang dieksekusi\n",
    "# Metode buat komparasi pake random & untreated\n",
    "# Hasil prioritasi disimpen di list berupa id sama verdict\n",
    "# Di akhir cycle, itung APFD dari semua metode. Disimpen di list"
   ]
  },
  {
   "cell_type": "code",
   "execution_count": 2,
   "metadata": {},
   "outputs": [],
   "source": [
    "import pandas as pd\n",
    "import random\n",
    "import numpy as np"
   ]
  },
  {
   "cell_type": "code",
   "execution_count": 15,
   "metadata": {},
   "outputs": [],
   "source": [
    "def prioritize(cycle_no):\n",
    "    # Slice dataframe jadi per-cycle\n",
    "    cur_cycle = df[df['Cycle'] == cycle_no]\n",
    "    \n",
    "    # Untreated, urutan test case ga diubah. Random, urutan diacak\n",
    "    id_ver_pair = cur_cycle[['Id', 'Verdict']]\n",
    "    untr = cur_cycle['Id'].values.tolist()\n",
    "    rand = random.sample(untr, len(untr))\n",
    "    \n",
    "    return untr, rand, id_ver_pair"
   ]
  },
  {
   "cell_type": "code",
   "execution_count": 4,
   "metadata": {},
   "outputs": [],
   "source": [
    "def reveal(id_ver_pair, untr, rand):\n",
    "    untr_ver = []\n",
    "    rand_ver = []\n",
    "    \n",
    "    # Karena urutan untreated sama dengan dataset, langsung dibikin list\n",
    "    untr_ver = id_ver_pair['Verdict'].values.tolist()\n",
    "    \n",
    "    # Loop untuk mengetahui verdict dari random prioritization\n",
    "    for i in range(len(rand)):\n",
    "        for j in range(len(untr)):\n",
    "            if(rand[i] == untr[j]):\n",
    "                rand_ver.append(untr_ver[j])\n",
    "                \n",
    "    return untr_ver, rand_ver"
   ]
  },
  {
   "cell_type": "code",
   "execution_count": 33,
   "metadata": {},
   "outputs": [],
   "source": [
    "def apfd(untr_ver, rand_ver):\n",
    "    # Hasil eksekusi di split masing-masing 10%\n",
    "    untr_split = np.array_split(untr_ver, 10)\n",
    "    rand_split = np.array_split(rand_ver, 10)\n",
    "    \n",
    "    untr_res = []\n",
    "    rand_res = []\n",
    "    \n",
    "    # Ngitung jumlah test case yang failed setiap 10%\n",
    "    for i in range(10):\n",
    "        untr_res.append(untr_split[i].tolist().count(1))\n",
    "        rand_res.append(rand_split[i].tolist().count(1))\n",
    "    \n",
    "    return untr_res, rand_res"
   ]
  },
  {
   "cell_type": "code",
   "execution_count": 16,
   "metadata": {},
   "outputs": [],
   "source": [
    "df = pd.read_csv('AlibabaFastJSON.csv', sep=';')"
   ]
  },
  {
   "cell_type": "code",
   "execution_count": 34,
   "metadata": {
    "scrolled": true
   },
   "outputs": [],
   "source": [
    "# Prioritized test case\n",
    "untr, rand, id_ver_pair = prioritize(1)\n",
    "\n",
    "# Verdicts from prioritized test case\n",
    "untr_ver, rand_ver = reveal(id_ver_pair, untr, rand)\n",
    "\n",
    "# Split result by 10% for visualization\n",
    "untr_res, rand_res = apfd(untr_ver, rand_ver)"
   ]
  }
 ],
 "metadata": {
  "kernelspec": {
   "display_name": "Python 3",
   "language": "python",
   "name": "python3"
  },
  "language_info": {
   "codemirror_mode": {
    "name": "ipython",
    "version": 3
   },
   "file_extension": ".py",
   "mimetype": "text/x-python",
   "name": "python",
   "nbconvert_exporter": "python",
   "pygments_lexer": "ipython3",
   "version": "3.7.1"
  }
 },
 "nbformat": 4,
 "nbformat_minor": 4
}
