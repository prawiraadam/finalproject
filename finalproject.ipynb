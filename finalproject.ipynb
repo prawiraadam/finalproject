{
 "cells": [
  {
   "cell_type": "code",
   "execution_count": null,
   "metadata": {},
   "outputs": [],
   "source": [
    "# Rancangan\n",
    "# Dataframe displit tiap cycle, iterasi\n",
    "# Agent bikin prioritas testcase yang dieksekusi\n",
    "# Metode buat komparasi pake random & untreated\n",
    "# Hasil prioritasi disimpen di list berupa id sama verdict\n",
    "# Di akhir cycle, itung APFD dari semua metode. Disimpen di list"
   ]
  },
  {
   "cell_type": "code",
   "execution_count": 17,
   "metadata": {},
   "outputs": [],
   "source": [
    "import pandas as pd\n",
    "import random"
   ]
  },
  {
   "cell_type": "code",
   "execution_count": null,
   "metadata": {},
   "outputs": [],
   "source": [
    "def prioritize(cycle_no):\n",
    "    # Slice dataframe jadi per-cycle\n",
    "    cur_cycle = df[df['Cycle'] == cycle_no]\n",
    "    \n",
    "    # Untreated, urutan test case ga diubah. Random, urutan diacak\n",
    "    verdicts = df[['Id', 'Verdict']]\n",
    "    untr = cur_cycle['Id'].values.tolist\n",
    "    rand = random.sample(untr, len(untr))\n",
    "    \n",
    "    return untr, rand"
   ]
  },
  {
   "cell_type": "code",
   "execution_count": 3,
   "metadata": {},
   "outputs": [],
   "source": [
    "df = pd.read_csv('AlibabaFastJSON.csv', sep=';')"
   ]
  },
  {
   "cell_type": "code",
   "execution_count": 15,
   "metadata": {},
   "outputs": [],
   "source": [
    "untr_res = []\n",
    "rand_res = []\n",
    "rl_res = []"
   ]
  },
  {
   "cell_type": "code",
   "execution_count": 21,
   "metadata": {},
   "outputs": [],
   "source": [
    "cur_cycle = df[df['Cycle'] == 1]\n",
    "\n",
    "untr = cur_cycle['Id'].values.tolist()\n",
    "rand = random.sample(untr, len(untr))"
   ]
  },
  {
   "cell_type": "code",
   "execution_count": null,
   "metadata": {},
   "outputs": [],
   "source": []
  }
 ],
 "metadata": {
  "kernelspec": {
   "display_name": "Python 3",
   "language": "python",
   "name": "python3"
  },
  "language_info": {
   "codemirror_mode": {
    "name": "ipython",
    "version": 3
   },
   "file_extension": ".py",
   "mimetype": "text/x-python",
   "name": "python",
   "nbconvert_exporter": "python",
   "pygments_lexer": "ipython3",
   "version": "3.7.1"
  }
 },
 "nbformat": 4,
 "nbformat_minor": 4
}
